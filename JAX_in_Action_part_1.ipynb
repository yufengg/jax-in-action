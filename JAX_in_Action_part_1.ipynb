{
  "nbformat": 4,
  "nbformat_minor": 0,
  "metadata": {
    "colab": {
      "provenance": [],
      "gpuType": "T4",
      "toc_visible": true,
      "include_colab_link": true
    },
    "kernelspec": {
      "name": "python3",
      "display_name": "Python 3"
    },
    "language_info": {
      "name": "python"
    },
    "accelerator": "GPU"
  },
  "cells": [
    {
      "cell_type": "markdown",
      "metadata": {
        "id": "view-in-github",
        "colab_type": "text"
      },
      "source": [
        "<a href=\"https://colab.research.google.com/github/yufengg/jax-in-action/blob/master/JAX_in_Action_part_1.ipynb\" target=\"_parent\"><img src=\"https://colab.research.google.com/assets/colab-badge.svg\" alt=\"Open In Colab\"/></a>"
      ]
    },
    {
      "cell_type": "markdown",
      "source": [
        "Licensed under the Apache License, Version 2.0 (the \"License\");\n",
        "you may not use this file except in compliance with the License.\n",
        "You may obtain a copy of the License at\n",
        "\n",
        "https://www.apache.org/licenses/LICENSE-2.0\n",
        "\n",
        "Unless required by applicable law or agreed to in writing, software\n",
        "distributed under the License is distributed on an \"AS IS\" BASIS,\n",
        "WITHOUT WARRANTIES OR CONDITIONS OF ANY KIND, either express or implied.\n",
        "See the License for the specific language governing permissions and\n",
        "limitations under the License."
      ],
      "metadata": {
        "id": "RarGyW_VcbdH"
      }
    },
    {
      "cell_type": "markdown",
      "source": [
        "# Setup\n",
        "\n",
        "## Change to GPU runtime\n",
        "* Select the dropdown next to the \"Connect\" button\n",
        "* Select \"Change runtime type\"\n",
        "* Select \"T4 GPU\""
      ],
      "metadata": {
        "id": "Lv3SPwMAMa5E"
      }
    },
    {
      "cell_type": "code",
      "execution_count": null,
      "metadata": {
        "id": "a2sSQfnhNAok"
      },
      "outputs": [],
      "source": [
        "import jax\n",
        "import numpy as np\n",
        "import jax.numpy as jnp\n",
        "\n",
        "from jax import random"
      ]
    },
    {
      "cell_type": "markdown",
      "source": [
        "# Speeding up numpy with `jit()`"
      ],
      "metadata": {
        "id": "jUCg-Q0HpIFM"
      }
    },
    {
      "cell_type": "markdown",
      "source": [
        "Helper function that creates 2 arrays:\n",
        "- 1 numpy\n",
        "- 1 jax"
      ],
      "metadata": {
        "id": "K6ec-Fj2608j"
      }
    },
    {
      "cell_type": "code",
      "source": [
        "def create_arrays(dims):\n",
        "  x_np = np.random.normal(size=dim).astype(np.float32)\n",
        "  x_jax = jax.random.normal(jax.random.PRNGKey(0), shape=dim, dtype=jnp.float32)\n",
        "  return x_np, x_jax"
      ],
      "metadata": {
        "id": "0XB3xrJ97fdB"
      },
      "execution_count": null,
      "outputs": []
    },
    {
      "cell_type": "code",
      "source": [
        "dim = (3_000, 3_000)\n",
        "x_np, x_jax = create_arrays(dim)"
      ],
      "metadata": {
        "id": "nPl3Ad-X6Hvb"
      },
      "execution_count": null,
      "outputs": []
    },
    {
      "cell_type": "code",
      "source": [
        "x_np.shape"
      ],
      "metadata": {
        "colab": {
          "base_uri": "https://localhost:8080/"
        },
        "id": "GrB2B8J96dlP",
        "outputId": "691f88c7-7eb1-4604-c719-dabaa96bb7f9"
      },
      "execution_count": null,
      "outputs": [
        {
          "output_type": "execute_result",
          "data": {
            "text/plain": [
              "(3000, 3000)"
            ]
          },
          "metadata": {},
          "execution_count": 4
        }
      ]
    },
    {
      "cell_type": "code",
      "source": [
        "x_jax.shape"
      ],
      "metadata": {
        "colab": {
          "base_uri": "https://localhost:8080/"
        },
        "id": "uBOIxgkD6dfI",
        "outputId": "4953590d-a49d-47ef-8e3a-35724d158504"
      },
      "execution_count": null,
      "outputs": [
        {
          "output_type": "execute_result",
          "data": {
            "text/plain": [
              "(3000, 3000)"
            ]
          },
          "metadata": {},
          "execution_count": 5
        }
      ]
    },
    {
      "cell_type": "markdown",
      "source": [
        "Do a matrix multiply with itself, `X*X`, using jax and numpy"
      ],
      "metadata": {
        "id": "vkF5VQuI65wL"
      }
    },
    {
      "cell_type": "code",
      "source": [
        "%timeit -n5 jnp.matmul(x_jax, x_jax).block_until_ready() # block_until_ready() is needed to properly time the operation, because jax executes async"
      ],
      "metadata": {
        "colab": {
          "base_uri": "https://localhost:8080/"
        },
        "id": "IbvfIRMM7JcI",
        "outputId": "eedc495e-dc6a-41ca-b96e-70ea5ba73f4e"
      },
      "execution_count": null,
      "outputs": [
        {
          "output_type": "stream",
          "name": "stdout",
          "text": [
            "The slowest run took 27.88 times longer than the fastest. This could mean that an intermediate result is being cached.\n",
            "61.7 ms ± 119 ms per loop (mean ± std. dev. of 7 runs, 5 loops each)\n"
          ]
        }
      ]
    },
    {
      "cell_type": "code",
      "source": [
        "%timeit -n5 np.matmul(x_np, x_np) # this will take a bit of time"
      ],
      "metadata": {
        "colab": {
          "base_uri": "https://localhost:8080/"
        },
        "id": "F-nvizJE6YNI",
        "outputId": "57be2054-09b1-4a92-ea81-e513be2d3c89"
      },
      "execution_count": null,
      "outputs": [
        {
          "output_type": "stream",
          "name": "stdout",
          "text": [
            "805 ms ± 83 ms per loop (mean ± std. dev. of 7 runs, 5 loops each)\n"
          ]
        }
      ]
    },
    {
      "cell_type": "markdown",
      "source": [
        "Create an arbitrary math function, and run a np array through vs a jax array:\n",
        "\n",
        "`y = 3x^3 + 2x^2 + x`\n",
        "\n",
        "Let's up the array size 10x"
      ],
      "metadata": {
        "id": "AxgzK7EY8JHl"
      }
    },
    {
      "cell_type": "code",
      "source": [
        "def my_func(x):\n",
        "  return 3*x*x*x + 2*x*x + x"
      ],
      "metadata": {
        "id": "dhDb3rHH8ImI"
      },
      "execution_count": null,
      "outputs": []
    },
    {
      "cell_type": "code",
      "source": [
        "dim = (10000, 10000)\n",
        "x_np, x_jax = create_arrays(dim)"
      ],
      "metadata": {
        "id": "gCkXYElq8Iif"
      },
      "execution_count": null,
      "outputs": []
    },
    {
      "cell_type": "code",
      "source": [
        "%timeit -n5 my_func(x_np)"
      ],
      "metadata": {
        "colab": {
          "base_uri": "https://localhost:8080/"
        },
        "id": "OL-NZwn08upC",
        "outputId": "ee9fc557-837d-473c-adc3-8e510fb4b7da"
      },
      "execution_count": null,
      "outputs": [
        {
          "output_type": "stream",
          "name": "stdout",
          "text": [
            "611 ms ± 13.3 ms per loop (mean ± std. dev. of 7 runs, 5 loops each)\n"
          ]
        }
      ]
    },
    {
      "cell_type": "code",
      "source": [
        "%timeit -n5 my_func(x_jax).block_until_ready()"
      ],
      "metadata": {
        "colab": {
          "base_uri": "https://localhost:8080/"
        },
        "id": "Fse-WOqf8H18",
        "outputId": "f5ec9ba4-7596-4387-fa60-15d95853d2dc"
      },
      "execution_count": null,
      "outputs": [
        {
          "output_type": "stream",
          "name": "stdout",
          "text": [
            "33.8 ms ± 5.15 ms per loop (mean ± std. dev. of 7 runs, 5 loops each)\n"
          ]
        }
      ]
    },
    {
      "cell_type": "markdown",
      "source": [
        "Can we do better? Yes, with the power of `jit()`!\n",
        "\n",
        "`jax.jit()` uses 'just in time' compliation to further optimize the operations."
      ],
      "metadata": {
        "id": "CYhnnfF49NTR"
      }
    },
    {
      "cell_type": "code",
      "source": [
        "jit_func = jax.jit(my_func)"
      ],
      "metadata": {
        "id": "ILlDUWlP9BQs"
      },
      "execution_count": null,
      "outputs": []
    },
    {
      "cell_type": "code",
      "source": [
        "%timeit -n5 jit_func(x_jax).block_until_ready()"
      ],
      "metadata": {
        "colab": {
          "base_uri": "https://localhost:8080/"
        },
        "id": "u7zp5OfH9c2O",
        "outputId": "02ca705c-7bf3-4c03-f912-50664c412b2f"
      },
      "execution_count": null,
      "outputs": [
        {
          "output_type": "stream",
          "name": "stdout",
          "text": [
            "4.71 ms ± 2.6 ms per loop (mean ± std. dev. of 7 runs, 5 loops each)\n"
          ]
        }
      ]
    },
    {
      "cell_type": "markdown",
      "source": [
        "## JIT Tracing\n",
        "\n",
        "How does `jit()` lead to such performance improvements?\n",
        "\n"
      ],
      "metadata": {
        "id": "8dt2AlRk-pYD"
      }
    },
    {
      "cell_type": "code",
      "source": [],
      "metadata": {
        "id": "a000pd0BpsZp"
      },
      "execution_count": null,
      "outputs": []
    },
    {
      "cell_type": "markdown",
      "source": [
        "# `vmap()` for batching\n",
        "\n",
        "automatic vectorization:\n",
        "- define a function on a vector. `vmap()` will generate a batched version using matrices, instead of using a for-loop."
      ],
      "metadata": {
        "id": "RryOCVGE-x3Q"
      }
    },
    {
      "cell_type": "code",
      "source": [
        "key = jax.random.PRNGKey(42) # because 42 is the answer"
      ],
      "metadata": {
        "id": "9eBxwk7fgJmf"
      },
      "execution_count": null,
      "outputs": []
    },
    {
      "cell_type": "code",
      "source": [
        "W = jax.random.normal(key, (64, 100), dtype=jnp.float32)\n",
        "# 16 batches of input, each batch contains 100 elements\n",
        "batch_x = jax.random.normal(key, (16, 100), dtype=jnp.float32)\n",
        "\n",
        "W.shape, batch_x.shape"
      ],
      "metadata": {
        "colab": {
          "base_uri": "https://localhost:8080/"
        },
        "id": "Ixlk3OCdgG2h",
        "outputId": "dc27d7a2-bb38-4b5d-9664-5eec58a9f6a2"
      },
      "execution_count": null,
      "outputs": [
        {
          "output_type": "execute_result",
          "data": {
            "text/plain": [
              "((64, 100), (16, 100))"
            ]
          },
          "metadata": {},
          "execution_count": 15
        }
      ]
    },
    {
      "cell_type": "markdown",
      "source": [
        "## Using dot products to compute a matrix multiply\n",
        "\n",
        "A dot product can be computed for a matrix times a vector"
      ],
      "metadata": {
        "id": "pMm88891gXLP"
      }
    },
    {
      "cell_type": "code",
      "source": [
        "# Compute dot-product for the first input of the batch (out of 16)\n",
        "x = batch_x[0]\n",
        "W.shape, x.shape"
      ],
      "metadata": {
        "colab": {
          "base_uri": "https://localhost:8080/"
        },
        "id": "kZhofYK-gT9p",
        "outputId": "aebcb4ec-86c0-4337-9844-900ce508f36a"
      },
      "execution_count": null,
      "outputs": [
        {
          "output_type": "execute_result",
          "data": {
            "text/plain": [
              "((64, 100), (100,))"
            ]
          },
          "metadata": {},
          "execution_count": 16
        }
      ]
    },
    {
      "cell_type": "code",
      "source": [
        "y = jnp.dot(W, x)"
      ],
      "metadata": {
        "id": "RtAMizqNggek"
      },
      "execution_count": null,
      "outputs": []
    },
    {
      "cell_type": "code",
      "source": [
        "y.shape"
      ],
      "metadata": {
        "colab": {
          "base_uri": "https://localhost:8080/"
        },
        "id": "f4mCQm5TgirJ",
        "outputId": "56d298ac-79b2-4d03-9a60-408c8bbdeed3"
      },
      "execution_count": null,
      "outputs": [
        {
          "output_type": "execute_result",
          "data": {
            "text/plain": [
              "(64,)"
            ]
          },
          "metadata": {},
          "execution_count": 18
        }
      ]
    },
    {
      "cell_type": "markdown",
      "source": [
        "but a matrix dot-product with another matrix fails, because W is 64x100, and batch_x is 16x100"
      ],
      "metadata": {
        "id": "TZDrJX7wgtkD"
      }
    },
    {
      "cell_type": "code",
      "source": [
        "# y = jnp.dot(W, batch_x) # this does not work"
      ],
      "metadata": {
        "id": "8y6Tf4ZahNZs"
      },
      "execution_count": null,
      "outputs": []
    },
    {
      "cell_type": "markdown",
      "source": [
        "We could compute this using a for loop, going over the first-dimension of batch_x (e.g. batch_x[0] , batch_x[1], ..., batch_x[15])\n",
        "\n",
        "Clever users of dot products will note that we can fix this problem by simply taking the transpose, so that the dimensions line up as 64x100 and 100x16"
      ],
      "metadata": {
        "id": "Cqjqkz_nhVI1"
      }
    },
    {
      "cell_type": "code",
      "source": [
        "y = jnp.dot(W, batch_x.T) # this works\n",
        "y.shape"
      ],
      "metadata": {
        "colab": {
          "base_uri": "https://localhost:8080/"
        },
        "id": "qhyL_zODhUcT",
        "outputId": "cc6b0770-c380-4f9c-a936-a6cead334de3"
      },
      "execution_count": null,
      "outputs": [
        {
          "output_type": "execute_result",
          "data": {
            "text/plain": [
              "(64, 16)"
            ]
          },
          "metadata": {},
          "execution_count": 20
        }
      ]
    },
    {
      "cell_type": "markdown",
      "source": [
        "But wait, did it actually work? Don't we want 16 rows of 64 values each?\n",
        "\n",
        "Okay, let's another transpose after the dot product..."
      ],
      "metadata": {
        "id": "1FaDtM_whmXD"
      }
    },
    {
      "cell_type": "code",
      "source": [
        "y = jnp.dot(W, batch_x.T).T\n",
        "y.shape"
      ],
      "metadata": {
        "colab": {
          "base_uri": "https://localhost:8080/"
        },
        "id": "z_JzBcRGgje8",
        "outputId": "00b2e508-9d05-499f-c1dc-2a9280fe3124"
      },
      "execution_count": null,
      "outputs": [
        {
          "output_type": "execute_result",
          "data": {
            "text/plain": [
              "(16, 64)"
            ]
          },
          "metadata": {},
          "execution_count": 21
        }
      ]
    },
    {
      "cell_type": "markdown",
      "source": [
        "What if a single function call could save us all that hassle of figuring out which terms needed to be transposed to make this work?"
      ],
      "metadata": {
        "id": "WDl0PFZOhx1b"
      }
    },
    {
      "cell_type": "code",
      "source": [
        "y_vmap = jax.vmap(jnp.dot, in_axes=(None, 0))(W, batch_x) # in_axes=(None, 0) means \"vectorize the 0-index dimension of the 2nd arg\"\n",
        "y_vmap.shape"
      ],
      "metadata": {
        "colab": {
          "base_uri": "https://localhost:8080/"
        },
        "id": "_YwYpkoxh0qq",
        "outputId": "7ebd5ad6-61c9-4a9b-dba2-0eeb36879d05"
      },
      "execution_count": null,
      "outputs": [
        {
          "output_type": "execute_result",
          "data": {
            "text/plain": [
              "(16, 64)"
            ]
          },
          "metadata": {},
          "execution_count": 22
        }
      ]
    },
    {
      "cell_type": "markdown",
      "source": [
        "The shapes match, yes... but values should also match, right?"
      ],
      "metadata": {
        "id": "eU7Zu2yZihcc"
      }
    },
    {
      "cell_type": "code",
      "source": [
        "assert y.all() == y_vmap.all()"
      ],
      "metadata": {
        "id": "ilHwy_hMh_T_"
      },
      "execution_count": null,
      "outputs": []
    },
    {
      "cell_type": "markdown",
      "source": [
        "# Automatic `grad()`ient calculation\n",
        "\n",
        "Use `grad(f)` to create a (new) function that returns gradients of `f`.\n",
        "\n",
        "Useful in (not only) machine learning."
      ],
      "metadata": {
        "id": "xP1ITE_-pPXP"
      }
    },
    {
      "cell_type": "code",
      "source": [
        "from jax import grad"
      ],
      "metadata": {
        "id": "1gKmn56cvUqj"
      },
      "execution_count": null,
      "outputs": []
    },
    {
      "cell_type": "markdown",
      "source": [
        "## Linear functions"
      ],
      "metadata": {
        "id": "3_yIs9ZDsk1b"
      }
    },
    {
      "cell_type": "code",
      "source": [
        "# Remember y= mx + b ? (Here the M is upside down as a W, for \"weight\")\n",
        "\n",
        "def linear_func(x, w, b):\n",
        "  y = w * x + b\n",
        "  return y"
      ],
      "metadata": {
        "id": "brxq1JNdRBfr"
      },
      "execution_count": null,
      "outputs": []
    },
    {
      "cell_type": "code",
      "source": [
        "x = 4.0\n",
        "w = 3.0\n",
        "b = 2.0\n",
        "\n",
        "linear_func(x,w,b) # y = 3x + 2 | x=4"
      ],
      "metadata": {
        "colab": {
          "base_uri": "https://localhost:8080/"
        },
        "id": "MhtCDH9Irg0I",
        "outputId": "13f7e039-2bd4-4be2-ee2b-5e0886f583fe"
      },
      "execution_count": null,
      "outputs": [
        {
          "output_type": "execute_result",
          "data": {
            "text/plain": [
              "14.0"
            ]
          },
          "metadata": {},
          "execution_count": 26
        }
      ]
    },
    {
      "cell_type": "code",
      "source": [
        "dydx = grad(linear_func)(x,w,b) # derivative y = 3x + 2, wrt x, is 3\n",
        "dydx"
      ],
      "metadata": {
        "colab": {
          "base_uri": "https://localhost:8080/"
        },
        "id": "ILQIM0VFrlTs",
        "outputId": "d12e9eb7-dbcf-4ca8-d218-dcf25ca1264f"
      },
      "execution_count": null,
      "outputs": [
        {
          "output_type": "execute_result",
          "data": {
            "text/plain": [
              "Array(3., dtype=float32, weak_type=True)"
            ]
          },
          "metadata": {},
          "execution_count": 27
        }
      ]
    },
    {
      "cell_type": "markdown",
      "source": [
        "`argnums=1` to take a derivative with respect to `w`, the 2nd arg (index=1)\n",
        "\n",
        "of `y = w * x + b`\n",
        "\n",
        "is `x`, whose value is 4\n",
        "\n"
      ],
      "metadata": {
        "id": "DiyB4qGAs5dw"
      }
    },
    {
      "cell_type": "code",
      "source": [
        "dw = grad(linear_func, argnums=1)(x,w,b)\n",
        "dw"
      ],
      "metadata": {
        "colab": {
          "base_uri": "https://localhost:8080/"
        },
        "id": "yZBsU4eIsnIq",
        "outputId": "a2f943c9-9930-4d97-d4c4-302637cf4eca"
      },
      "execution_count": null,
      "outputs": [
        {
          "output_type": "execute_result",
          "data": {
            "text/plain": [
              "Array(4., dtype=float32, weak_type=True)"
            ]
          },
          "metadata": {},
          "execution_count": 28
        }
      ]
    },
    {
      "cell_type": "markdown",
      "source": [
        "You can get all the derivatives by passing in multiple values to argnums"
      ],
      "metadata": {
        "id": "amPlSGPhtf3H"
      }
    },
    {
      "cell_type": "code",
      "source": [
        "dx, dw, db = grad(linear_func, argnums=(0,1,2))(x,w,b)\n",
        "dx, dw, db"
      ],
      "metadata": {
        "colab": {
          "base_uri": "https://localhost:8080/"
        },
        "id": "X5n11l1VtbME",
        "outputId": "7b6fc47f-6dbc-423d-8a37-35c7cb75ee63"
      },
      "execution_count": null,
      "outputs": [
        {
          "output_type": "execute_result",
          "data": {
            "text/plain": [
              "(Array(3., dtype=float32, weak_type=True),\n",
              " Array(4., dtype=float32, weak_type=True),\n",
              " Array(1., dtype=float32, weak_type=True))"
            ]
          },
          "metadata": {},
          "execution_count": 29
        }
      ]
    },
    {
      "cell_type": "markdown",
      "source": [
        "Remember that grad is _creating a new function_ to compute these gradients. That's why we still need to pass in the values of `x,w,b` each time."
      ],
      "metadata": {
        "id": "wUroI0JYts_e"
      }
    },
    {
      "cell_type": "code",
      "source": [],
      "metadata": {
        "id": "rRhKADbftsUs"
      },
      "execution_count": null,
      "outputs": []
    },
    {
      "cell_type": "code",
      "source": [],
      "metadata": {
        "id": "rd2iyUy-tqmM"
      },
      "execution_count": null,
      "outputs": []
    },
    {
      "cell_type": "markdown",
      "source": [
        "# Neural Network with `jax.numpy`\n",
        "\n",
        "* Create a function that initializes a single fully-connected layer with random values\n",
        "* Create a handful of layers\n",
        "* `predict()` function (forward pass)\n",
        "* `loss()` function to define the error to optimize\n",
        "  * this is what we \"optimize\" with `grad()`.\n",
        "* `update()` the NN parameters based in the direction `grad` gives us"
      ],
      "metadata": {
        "id": "-9n3vHW9jwJi"
      }
    },
    {
      "cell_type": "markdown",
      "source": [
        "## Create network layers"
      ],
      "metadata": {
        "id": "sgjVVB8gegQd"
      }
    },
    {
      "cell_type": "code",
      "source": [
        "# note that we return W and b together as an ordered pair\n",
        "def init_layer(key, n_in, n_out):\n",
        "  k1, k2 = random.split(key)\n",
        "  W = random.normal(k1, (n_in, n_out))\n",
        "  b = random.normal(k2, (n_out,))\n",
        "  return W, b"
      ],
      "metadata": {
        "id": "m5Oo9szyyErh"
      },
      "execution_count": null,
      "outputs": []
    },
    {
      "cell_type": "code",
      "source": [
        "# Given a list of layer_sizes, create the corresponding matrices\n",
        "def create_layers(key, layer_sizes):\n",
        "  key, *keys = random.split(key, len(layer_sizes))\n",
        "  params = list(map(init_layer, keys, layer_sizes[:-1], layer_sizes[1:]))\n",
        "  return params"
      ],
      "metadata": {
        "id": "IN1Aoe_tzOt-"
      },
      "execution_count": null,
      "outputs": []
    },
    {
      "cell_type": "code",
      "source": [
        "layer_sizes = [1, 40, 20, 1]\n",
        "key = random.PRNGKey(0)\n",
        "params = create_layers(key, layer_sizes)"
      ],
      "metadata": {
        "id": "ZLuxpUogzT71"
      },
      "execution_count": null,
      "outputs": []
    },
    {
      "cell_type": "markdown",
      "source": [
        "## Create input and outputs\n",
        "\n",
        "so we have data to test with"
      ],
      "metadata": {
        "id": "7az9UlY8ea_6"
      }
    },
    {
      "cell_type": "code",
      "source": [
        "# inputs and targets are the X and y that we are trying to train\n",
        "inputs = np.random.normal(size = (256,1))\n",
        "\n",
        "# y = 3x^3 + 5x^2 + 9x + 2 + some noise\n",
        "x = inputs\n",
        "targets = 3*x*x*x + 5*x*x + 9*x + 2 + np.random.normal(size=(256,1), scale = 1.5)"
      ],
      "metadata": {
        "id": "zJ_UvkaL3VSj"
      },
      "execution_count": null,
      "outputs": []
    },
    {
      "cell_type": "code",
      "source": [
        "# Shows the shapes of the nested arrays.\n",
        "jax.tree.map(lambda x: x.shape, params)\n",
        "\n",
        "# we can pass other lambda functions to map other operations to the parameters of our model.\n",
        "# Inputs to map() are a lambda function followed by the inputs to that lambda function"
      ],
      "metadata": {
        "colab": {
          "base_uri": "https://localhost:8080/"
        },
        "id": "KY6j_nka0-NG",
        "outputId": "b555fe93-14d2-4dd4-a19b-050cd2df456a"
      },
      "execution_count": null,
      "outputs": [
        {
          "output_type": "execute_result",
          "data": {
            "text/plain": [
              "[((1, 40), (40,)), ((40, 20), (20,)), ((20, 1), (1,))]"
            ]
          },
          "metadata": {},
          "execution_count": 34
        }
      ]
    },
    {
      "cell_type": "markdown",
      "source": [
        "## Predict function\n",
        "\n",
        "Wire together layer parameters and inputs to produce network output."
      ],
      "metadata": {
        "id": "K0YBS19BemIi"
      }
    },
    {
      "cell_type": "code",
      "source": [
        "def predict(params, X):\n",
        "  *hidden, last = params # separate the last layer from the rest, because we don't need an activation func for that one\n",
        "\n",
        "  for W, b in hidden:\n",
        "    X = jax.nn.relu(jnp.matmul(X, W) + b) # need to update this RELU call to be NNX\n",
        "\n",
        "  # the last layer does not get relu'd\n",
        "  W, b = last\n",
        "  return jnp.matmul(X, W) + b"
      ],
      "metadata": {
        "id": "tMc-dDaKuSVS"
      },
      "execution_count": null,
      "outputs": []
    },
    {
      "cell_type": "code",
      "source": [
        "predict(params, inputs)"
      ],
      "metadata": {
        "colab": {
          "base_uri": "https://localhost:8080/"
        },
        "collapsed": true,
        "id": "u3MWNidi2MZa",
        "outputId": "b64937e1-5b11-4051-8b85-9bd4b40dbefc"
      },
      "execution_count": null,
      "outputs": [
        {
          "output_type": "execute_result",
          "data": {
            "text/plain": [
              "Array([[-9.4722545e-01],\n",
              "       [ 2.1858722e-02],\n",
              "       [-2.5506160e+00],\n",
              "       [-2.6042132e+00],\n",
              "       [ 1.8392056e-02],\n",
              "       [-2.5034542e+00],\n",
              "       [ 3.3762343e+00],\n",
              "       [ 2.2361958e+00],\n",
              "       [-1.2270550e+00],\n",
              "       [ 2.4831016e+00],\n",
              "       [-1.0141662e+00],\n",
              "       [ 5.2394986e+00],\n",
              "       [-2.1930606e+00],\n",
              "       [-3.3171889e-01],\n",
              "       [-7.4683022e-01],\n",
              "       [-2.5995541e+00],\n",
              "       [-2.8265383e+00],\n",
              "       [-3.3367065e-01],\n",
              "       [ 2.0327793e+01],\n",
              "       [ 2.5558487e+01],\n",
              "       [-4.4484763e+00],\n",
              "       [ 7.9954820e+00],\n",
              "       [-1.0412807e+00],\n",
              "       [ 6.6769519e+00],\n",
              "       [ 3.8140099e+01],\n",
              "       [ 8.9899645e+00],\n",
              "       [ 1.9395357e+01],\n",
              "       [ 2.3597057e+00],\n",
              "       [ 1.3845015e+01],\n",
              "       [-2.5351837e+00],\n",
              "       [ 6.4385085e+00],\n",
              "       [-1.0626311e+00],\n",
              "       [-3.0498207e-03],\n",
              "       [-2.7116315e+00],\n",
              "       [-2.6595647e+00],\n",
              "       [ 2.4138715e+00],\n",
              "       [-8.5357368e-01],\n",
              "       [ 5.0074420e+00],\n",
              "       [ 6.5318376e-02],\n",
              "       [ 1.0987531e+01],\n",
              "       [-1.5120927e+00],\n",
              "       [-3.2906947e-01],\n",
              "       [ 3.1723435e+00],\n",
              "       [-2.6891742e+00],\n",
              "       [ 6.0187185e-01],\n",
              "       [-2.5250058e+00],\n",
              "       [-6.2070799e-01],\n",
              "       [ 2.7146210e+01],\n",
              "       [-3.4826353e-01],\n",
              "       [-2.5221090e+00],\n",
              "       [ 2.6538635e+01],\n",
              "       [-2.7623932e+00],\n",
              "       [-1.6455791e+00],\n",
              "       [ 2.0317863e+01],\n",
              "       [-3.5691556e-01],\n",
              "       [ 1.5363489e+01],\n",
              "       [-2.5228064e+00],\n",
              "       [ 9.1941547e+00],\n",
              "       [-9.0495253e-01],\n",
              "       [ 2.4462535e+00],\n",
              "       [ 1.2797697e+01],\n",
              "       [-1.3013235e+00],\n",
              "       [-3.6122754e-01],\n",
              "       [ 4.6052408e+00],\n",
              "       [ 1.8791475e+01],\n",
              "       [ 6.7698330e-02],\n",
              "       [ 2.6629620e+01],\n",
              "       [-1.6114519e+00],\n",
              "       [-2.7173450e+00],\n",
              "       [-2.4456975e+00],\n",
              "       [-2.5269167e+00],\n",
              "       [-1.2662517e+00],\n",
              "       [-4.0140459e-01],\n",
              "       [-2.4911981e+00],\n",
              "       [ 1.0056846e+01],\n",
              "       [ 1.3788984e+01],\n",
              "       [-6.9233567e-02],\n",
              "       [ 1.9830929e+01],\n",
              "       [-1.7771152e+00],\n",
              "       [-1.2412940e+00],\n",
              "       [-5.2683979e-02],\n",
              "       [ 1.3863733e+01],\n",
              "       [-1.6991911e+00],\n",
              "       [ 1.7919960e+01],\n",
              "       [ 1.0168272e+01],\n",
              "       [-2.6037962e+00],\n",
              "       [ 2.3866503e+01],\n",
              "       [-1.2803415e+00],\n",
              "       [-1.9721466e+00],\n",
              "       [ 1.6103205e-01],\n",
              "       [ 1.7943554e+01],\n",
              "       [ 1.4970690e-02],\n",
              "       [-1.0430732e-01],\n",
              "       [-1.1876048e+00],\n",
              "       [ 1.4547902e+01],\n",
              "       [-1.0723561e-02],\n",
              "       [-5.2142744e+00],\n",
              "       [-2.1481850e+00],\n",
              "       [ 6.0091287e-02],\n",
              "       [-5.1354706e-01],\n",
              "       [-7.3740816e-01],\n",
              "       [-1.7710811e+00],\n",
              "       [ 6.2805027e-02],\n",
              "       [ 2.3750565e+01],\n",
              "       [-2.2341469e-01],\n",
              "       [-7.1183443e-01],\n",
              "       [ 1.4667343e+01],\n",
              "       [-1.6687956e-01],\n",
              "       [ 4.8829016e-01],\n",
              "       [ 2.0678346e+00],\n",
              "       [ 1.6829914e+01],\n",
              "       [-9.7469652e-01],\n",
              "       [-8.9975393e-01],\n",
              "       [-1.2017927e+00],\n",
              "       [ 3.2670330e+01],\n",
              "       [ 3.5097153e+01],\n",
              "       [ 2.8353077e+01],\n",
              "       [-2.0456078e+00],\n",
              "       [-1.2555811e-01],\n",
              "       [-1.2553998e+00],\n",
              "       [ 1.3021492e+01],\n",
              "       [ 1.5141636e-02],\n",
              "       [-2.3767936e+00],\n",
              "       [-1.9572588e+00],\n",
              "       [ 2.7641727e+01],\n",
              "       [-1.7520314e+00],\n",
              "       [-1.5027798e+00],\n",
              "       [-3.2701752e+00],\n",
              "       [-2.7699754e+00],\n",
              "       [-1.3026798e-01],\n",
              "       [-2.9689810e-01],\n",
              "       [-1.3792783e+00],\n",
              "       [ 7.4542193e+00],\n",
              "       [-2.3647234e+00],\n",
              "       [-7.5517619e-01],\n",
              "       [-2.5783112e+00],\n",
              "       [ 2.0741703e+01],\n",
              "       [-2.5094053e-01],\n",
              "       [-4.5360580e-01],\n",
              "       [ 3.6111591e+00],\n",
              "       [-2.4833486e+00],\n",
              "       [-8.9899290e-01],\n",
              "       [ 2.2008474e+00],\n",
              "       [ 2.8451374e+00],\n",
              "       [-1.1792257e+00],\n",
              "       [-2.8484166e+00],\n",
              "       [-2.5806513e+00],\n",
              "       [ 1.1132520e+01],\n",
              "       [-2.5751297e+00],\n",
              "       [ 2.7142702e+01],\n",
              "       [-2.6065452e+00],\n",
              "       [-2.5439208e+00],\n",
              "       [ 7.1163301e+00],\n",
              "       [-2.5230908e+00],\n",
              "       [-2.5345383e+00],\n",
              "       [-3.2997351e+00],\n",
              "       [ 2.4934444e+01],\n",
              "       [-3.9736184e-01],\n",
              "       [ 1.7353289e+01],\n",
              "       [ 2.7865419e+01],\n",
              "       [ 7.8233972e+00],\n",
              "       [-1.2014018e+00],\n",
              "       [-3.8678047e-01],\n",
              "       [ 7.5227890e+00],\n",
              "       [-2.6984277e+00],\n",
              "       [ 6.8580425e-01],\n",
              "       [-6.8610072e-01],\n",
              "       [-8.5980201e-01],\n",
              "       [-2.5221407e+00],\n",
              "       [-1.4941357e+00],\n",
              "       [-6.0813916e-01],\n",
              "       [-1.3023600e-01],\n",
              "       [ 1.3746561e+00],\n",
              "       [-2.2117896e+00],\n",
              "       [-3.0743697e-01],\n",
              "       [-1.2321535e-01],\n",
              "       [-2.5866940e+00],\n",
              "       [ 9.9720926e+00],\n",
              "       [ 3.1030449e-01],\n",
              "       [-1.7847267e+00],\n",
              "       [ 4.5730671e+01],\n",
              "       [ 1.4556578e+01],\n",
              "       [-1.5161444e+00],\n",
              "       [-1.9068116e-01],\n",
              "       [-2.5921898e+00],\n",
              "       [-2.8102341e+00],\n",
              "       [-2.8393462e-01],\n",
              "       [-1.6344396e+00],\n",
              "       [ 1.4945011e+01],\n",
              "       [ 2.0700853e+00],\n",
              "       [-1.7467853e+00],\n",
              "       [-3.7422475e-01],\n",
              "       [ 7.9629283e+00],\n",
              "       [-2.8111150e+00],\n",
              "       [-1.7072059e+00],\n",
              "       [-2.6129720e-01],\n",
              "       [-9.2713308e-01],\n",
              "       [-5.6870997e-01],\n",
              "       [-2.6534324e+00],\n",
              "       [-2.0549445e+00],\n",
              "       [-1.2540561e+00],\n",
              "       [-2.0749271e+00],\n",
              "       [ 1.9490334e+01],\n",
              "       [-2.5213902e+00],\n",
              "       [-2.6649652e+00],\n",
              "       [ 8.7052641e+00],\n",
              "       [-6.5999544e-01],\n",
              "       [ 1.4673743e-01],\n",
              "       [-6.0543466e-01],\n",
              "       [ 7.5879831e+00],\n",
              "       [-1.2419804e+00],\n",
              "       [-3.1913429e-02],\n",
              "       [ 1.8258508e+00],\n",
              "       [-1.2516724e+00],\n",
              "       [-2.4013928e-01],\n",
              "       [-1.8470374e+00],\n",
              "       [ 1.3024855e+01],\n",
              "       [ 2.9934680e+00],\n",
              "       [ 4.9858513e+00],\n",
              "       [-3.2843381e-02],\n",
              "       [ 2.5199783e+01],\n",
              "       [ 1.9743629e+01],\n",
              "       [-2.2629783e+00],\n",
              "       [ 1.5547901e-02],\n",
              "       [ 3.3921085e+01],\n",
              "       [ 5.2732199e-02],\n",
              "       [ 2.9288137e+01],\n",
              "       [-6.8676901e-01],\n",
              "       [ 2.5884331e+01],\n",
              "       [-2.5201175e+00],\n",
              "       [ 3.1208580e+00],\n",
              "       [-9.5299459e-01],\n",
              "       [ 1.1129435e+01],\n",
              "       [ 1.0745216e+01],\n",
              "       [-2.7767003e+00],\n",
              "       [ 7.2699585e+00],\n",
              "       [ 2.4473806e+01],\n",
              "       [ 8.6029381e-02],\n",
              "       [ 8.0578842e+00],\n",
              "       [ 1.1235279e+01],\n",
              "       [ 2.2264321e+00],\n",
              "       [ 1.6655205e+00],\n",
              "       [-2.7756789e+00],\n",
              "       [-2.6447263e-01],\n",
              "       [-8.8444173e-01],\n",
              "       [-2.7047327e-01],\n",
              "       [ 1.9243110e+00],\n",
              "       [ 1.2999391e+01],\n",
              "       [ 1.3453227e+01],\n",
              "       [-3.7996252e+00],\n",
              "       [-8.3467460e-01],\n",
              "       [ 1.3469055e+01],\n",
              "       [-7.2088516e-01],\n",
              "       [ 1.3921101e+01],\n",
              "       [ 1.8118908e+01],\n",
              "       [-2.0180433e+00]], dtype=float32)"
            ]
          },
          "metadata": {},
          "execution_count": 36
        }
      ]
    },
    {
      "cell_type": "markdown",
      "source": [
        "## Create loss and update functions\n",
        "\n",
        "Compute the error (loss) of the current prediction, and compute the gradient to use in `update()`"
      ],
      "metadata": {
        "id": "zM9d9d_cevRg"
      }
    },
    {
      "cell_type": "code",
      "source": [
        "# mean squared error\n",
        "def loss(params, X, y):\n",
        "  return jnp.mean((predict(params, X) - y)**2)"
      ],
      "metadata": {
        "id": "moMN1uvUvMrf"
      },
      "execution_count": null,
      "outputs": []
    },
    {
      "cell_type": "code",
      "source": [
        "loss(params, inputs, targets)"
      ],
      "metadata": {
        "colab": {
          "base_uri": "https://localhost:8080/"
        },
        "id": "4p3_vT872bA1",
        "outputId": "16b02049-73a1-4c3c-e914-982933ad232d"
      },
      "execution_count": null,
      "outputs": [
        {
          "output_type": "execute_result",
          "data": {
            "text/plain": [
              "Array(620.65625, dtype=float32)"
            ]
          },
          "metadata": {},
          "execution_count": 38
        }
      ]
    },
    {
      "cell_type": "code",
      "source": [
        "# use grad() to compute the gradient of the loss wrt to the parameters of the model\n",
        "def update(params, X, y, lr):\n",
        "  g = grad(loss)(params, X, y)\n",
        "  # update each parameter by subtracting the (learning rate x gradient)\n",
        "  return jax.tree.map(lambda params, g: params - lr*g, params, g)"
      ],
      "metadata": {
        "id": "SVy-o_QRvNVv"
      },
      "execution_count": null,
      "outputs": []
    },
    {
      "cell_type": "code",
      "source": [
        "update(params, inputs, targets, 1e-2)"
      ],
      "metadata": {
        "colab": {
          "base_uri": "https://localhost:8080/"
        },
        "collapsed": true,
        "id": "l0aDArQ43Gsv",
        "outputId": "c068f131-ae16-445e-b4af-429dc262f560"
      },
      "execution_count": null,
      "outputs": [
        {
          "output_type": "execute_result",
          "data": {
            "text/plain": [
              "[(Array([[ 0.5685796 ,  1.7817302 ,  1.161634  ,  0.66253954,  0.2243501 ,\n",
              "          -0.41830313,  0.3960202 , -0.9290872 ,  0.9190633 , -1.7914038 ,\n",
              "          -0.30728495, -0.18219772, -2.5158265 ,  1.4966128 , -1.1494813 ,\n",
              "           1.8447098 ,  0.7113078 ,  0.6153676 , -0.00976264, -1.2366883 ,\n",
              "           1.6674768 ,  0.5785488 , -0.43796965,  1.6589642 , -1.3621253 ,\n",
              "           0.10718459,  0.481996  ,  0.73571074,  0.04824607,  1.7095363 ,\n",
              "           1.2181575 ,  0.4788201 , -0.28886396, -2.2996876 , -1.0662405 ,\n",
              "           2.202159  , -2.3985083 ,  1.0163707 ,  1.1475047 ,  1.769851  ]],      dtype=float32),\n",
              "  Array([-0.24255285,  1.2427988 , -1.5067512 , -0.8578976 , -0.76659447,\n",
              "          2.1076236 ,  0.4767879 ,  1.3392878 ,  1.1243875 , -0.7910228 ,\n",
              "         -1.1025404 , -0.8633722 ,  1.5090855 , -2.0582304 , -1.2756615 ,\n",
              "          1.0560006 ,  1.0481668 , -0.38627714,  0.62931144, -0.6310521 ,\n",
              "          0.985658  , -1.048042  , -1.2198635 ,  0.9767535 ,  1.6375947 ,\n",
              "          0.62400925, -2.0482135 , -0.8690984 , -1.0184194 ,  0.8404796 ,\n",
              "          0.3456758 , -0.81048393, -1.218195  , -0.2596062 , -0.14000621,\n",
              "          1.6928089 ,  0.71164846,  0.43589866, -0.9390486 ,  0.12733124],      dtype=float32)),\n",
              " (Array([[-6.89984500e-01,  7.55796134e-01,  4.82371271e-01,\n",
              "           4.29088235e-01, -4.02201712e-01, -1.07570827e+00,\n",
              "          -8.08595300e-01,  1.55560946e+00, -3.67507905e-01,\n",
              "           2.40430832e+00, -2.32662463e+00, -9.80332732e-01,\n",
              "           2.56340170e+00,  1.61931467e+00, -1.45215201e+00,\n",
              "          -2.43636668e-01,  1.05118267e-01, -4.90800768e-01,\n",
              "          -1.89383936e+00, -1.22692108e+00],\n",
              "         [-3.67428005e-01, -1.70964146e+00, -1.30323815e+00,\n",
              "          -1.13211906e+00,  1.30288851e+00,  9.38357770e-01,\n",
              "           2.68786222e-01, -6.81460381e-01, -1.85741711e+00,\n",
              "           7.87205517e-01, -2.23703384e+00,  9.87841845e-01,\n",
              "           1.33474857e-01,  2.11057830e+00, -1.38259089e+00,\n",
              "           1.72068322e+00,  1.11329269e+00, -6.72360301e-01,\n",
              "           9.71721649e-01,  5.57566762e-01],\n",
              "         [ 9.70782816e-01,  1.43564165e+00, -1.74095094e-01,\n",
              "           4.55364525e-01, -1.06748492e-02, -1.97983992e+00,\n",
              "          -1.30209029e+00,  1.86816886e-01, -3.78846794e-01,\n",
              "           1.42438233e+00, -4.49247032e-01, -3.04057956e-01,\n",
              "          -1.13429856e+00,  7.78007090e-01,  9.64933872e-01,\n",
              "           7.34759808e-01,  5.25135040e-01, -1.17091402e-01,\n",
              "          -3.49040151e-01,  2.25488901e+00],\n",
              "         [-1.97126150e+00,  3.49300921e-01,  9.78496969e-01,\n",
              "          -1.29707437e-03,  1.11496300e-02, -1.20149469e+00,\n",
              "          -5.82723975e-01, -9.03930604e-01,  7.80165970e-01,\n",
              "           5.92877209e-01, -1.19422925e+00,  7.90414214e-03,\n",
              "           1.37515998e+00, -8.31477940e-01,  7.71141171e-01,\n",
              "          -2.05798507e+00,  6.25495538e-02,  3.15284103e-01,\n",
              "          -2.10235655e-01,  8.68112862e-01],\n",
              "         [ 2.93585867e-01, -1.13816226e+00,  1.22207534e+00,\n",
              "           1.37176231e-01, -5.16682684e-01,  9.40519214e-01,\n",
              "          -2.19038978e-01, -6.56262994e-01,  1.84761137e-01,\n",
              "          -5.86834848e-01, -1.97392404e-01,  3.21797162e-01,\n",
              "          -6.70523405e-01, -1.85844168e-01, -1.86441600e-01,\n",
              "          -1.20889735e+00, -2.61247247e-01, -5.55662513e-02,\n",
              "           9.45811629e-01, -1.38093150e+00],\n",
              "         [-4.85013574e-01, -2.12655023e-01,  7.75720060e-01,\n",
              "          -5.00254095e-01,  1.49623603e-01,  9.93374467e-01,\n",
              "           3.63622129e-01,  4.25213337e-01,  5.14253378e-01,\n",
              "          -2.63409805e+00, -1.58902794e-01, -6.58544421e-01,\n",
              "          -1.36324036e+00,  7.36905813e-01,  9.68884230e-01,\n",
              "          -2.23161504e-02,  1.69256830e+00,  1.33510041e+00,\n",
              "          -3.98107320e-01, -7.51278043e-01],\n",
              "         [ 2.95501590e-01, -1.66203272e+00,  1.14730537e+00,\n",
              "          -1.18126404e+00,  3.07323307e-01, -2.27121377e+00,\n",
              "          -2.04097199e+00,  1.14387047e+00, -1.06799491e-01,\n",
              "           1.35448086e+00, -1.34291434e+00, -2.89762306e+00,\n",
              "          -2.18640193e-01,  9.30414081e-01,  2.46356463e+00,\n",
              "          -9.39517319e-01, -5.21152854e-01,  3.85910481e-01,\n",
              "          -1.01759955e-02, -1.82311356e-01],\n",
              "         [ 2.11129770e-01,  2.53337711e-01, -3.82490009e-01,\n",
              "           8.87893498e-01,  1.31319213e+00, -5.39855838e-01,\n",
              "          -1.61414206e+00,  1.86932147e-01,  8.19395363e-01,\n",
              "          -6.39829993e-01,  1.74788725e+00, -1.90858209e+00,\n",
              "          -1.28727949e+00,  1.64927095e-01,  1.48364162e+00,\n",
              "          -4.72293407e-01, -2.27308273e-02,  2.12031722e+00,\n",
              "           1.44562393e-01, -9.72007811e-01],\n",
              "         [-2.53467441e-01,  2.48272061e-01, -2.13485527e+00,\n",
              "          -1.37651634e+00, -5.78535318e-01, -1.07982087e+00,\n",
              "          -1.23466313e+00, -1.24342048e+00,  1.05270827e+00,\n",
              "          -1.26473069e+00, -2.18229488e-01,  9.37584162e-01,\n",
              "           1.13839471e+00,  4.83633906e-01,  9.47699070e-01,\n",
              "          -1.54861152e-01,  6.04440331e-01,  1.66542089e+00,\n",
              "          -2.64881998e-01,  7.21434832e-01],\n",
              "         [ 1.05710149e+00, -7.39449710e-02,  1.31441236e+00,\n",
              "          -2.19382310e+00, -6.65232360e-01, -2.82616198e-01,\n",
              "           6.31996989e-01,  2.87434012e-01,  1.43746829e+00,\n",
              "          -8.93000603e-01,  5.34155488e-01, -1.04122913e+00,\n",
              "          -1.35522056e+00,  1.02053702e+00,  9.97377336e-01,\n",
              "           1.83239356e-01, -1.26695681e+00,  1.17878222e+00,\n",
              "          -3.52861315e-01, -1.29581094e-01],\n",
              "         [-1.23613405e+00,  3.90260667e-01,  1.86461532e+00,\n",
              "          -2.96721280e-01,  2.18587184e+00,  5.66275239e-01,\n",
              "          -7.88108647e-01, -6.87889516e-01, -1.37707675e+00,\n",
              "           4.55157042e-01,  4.87880409e-01, -3.29712451e-01,\n",
              "           3.88679832e-01, -4.69575912e-01,  9.52623367e-01,\n",
              "          -3.95298064e-01,  5.28103173e-01, -9.96962607e-01,\n",
              "           1.24801171e+00,  5.36088109e-01],\n",
              "         [-1.10070789e+00,  3.13213944e-01,  4.37654227e-01,\n",
              "          -2.72287345e+00,  1.18094444e+00,  2.20611081e-01,\n",
              "          -9.11912858e-01,  9.30796266e-01,  2.53815025e-01,\n",
              "           2.31859684e+00, -1.03633094e+00, -2.39825383e-01,\n",
              "          -1.66455793e+00,  1.31948972e+00, -3.31880420e-01,\n",
              "           4.52587694e-01, -1.64651349e-01,  4.80694145e-01,\n",
              "           1.39421964e+00,  9.64331686e-01],\n",
              "         [-1.66392887e+00,  2.49973059e-01, -7.86281705e-01,\n",
              "          -9.15660918e-01, -1.98770881e-01,  1.32449293e+00,\n",
              "          -1.03899121e-01, -1.08281469e+00, -4.96079177e-01,\n",
              "           1.25740027e+00,  2.87026346e-01, -1.32859960e-01,\n",
              "          -1.59217298e+00,  1.30917549e-01,  3.08388090e+00,\n",
              "          -1.08700909e-01, -1.55818272e+00,  2.51739573e+00,\n",
              "          -2.07383633e+00,  2.78179908e+00],\n",
              "         [-1.30093229e+00,  8.56017470e-01,  2.46902132e+00,\n",
              "          -1.35352993e+00,  1.01023547e-01, -2.88514674e-01,\n",
              "          -4.18806732e-01, -5.91325223e-01, -3.18249822e-01,\n",
              "           1.69369555e+00,  8.55837524e-01,  6.05138004e-01,\n",
              "           2.43154931e+00,  5.79437986e-02, -1.99787155e-01,\n",
              "           1.25741625e+00,  4.73771125e-01,  4.37559187e-01,\n",
              "          -5.22817433e-01,  9.22180772e-01],\n",
              "         [-1.10852309e-02, -5.31108022e-01, -8.91398668e-01,\n",
              "           5.17317057e-01, -6.59722462e-02,  1.30610394e+00,\n",
              "           1.20780206e+00,  1.04445350e+00,  1.50581114e-02,\n",
              "           3.16256553e-01, -6.80979729e-01,  1.79034889e-01,\n",
              "          -1.15159348e-01,  2.12823749e-02, -1.23103774e+00,\n",
              "           4.08033162e-01,  1.56477010e+00, -4.08366144e-01,\n",
              "          -5.75725079e-01, -1.47843674e-01],\n",
              "         [-7.58489311e-01,  8.89082849e-02,  1.76921761e+00,\n",
              "           3.59659106e-01,  1.43398285e+00, -1.34175026e+00,\n",
              "          -6.17542148e-01,  8.89266431e-01, -2.94585735e-01,\n",
              "          -1.35293758e+00, -3.16367865e-01,  2.47619295e+00,\n",
              "          -1.63643634e+00,  5.97225487e-01,  1.42252851e+00,\n",
              "           2.79556870e-01,  6.63906217e-01, -1.86569762e+00,\n",
              "          -4.71286952e-01,  8.87231708e-01],\n",
              "         [-2.93783516e-01,  1.96361661e-01, -8.20334375e-01,\n",
              "          -1.06776083e+00, -2.26280856e+00,  1.85506392e+00,\n",
              "          -7.76778698e-01, -1.11721039e+00, -2.00500321e+00,\n",
              "           1.18628132e+00, -1.19488609e+00,  1.40479219e+00,\n",
              "          -1.53725481e+00,  2.45261288e+00, -1.19732380e+00,\n",
              "           8.11071277e-01,  6.90104365e-01, -7.43014693e-01,\n",
              "          -1.39164776e-01, -5.52361548e-01],\n",
              "         [ 3.48232806e-01, -5.37708580e-01,  1.26561630e+00,\n",
              "           1.36421764e+00,  1.39109099e+00, -2.64332712e-01,\n",
              "          -8.36421669e-01,  2.05786920e+00,  2.60846853e-01,\n",
              "          -1.21314013e+00,  8.09713125e-01,  2.05987424e-01,\n",
              "           9.57032621e-01,  2.76565015e-01, -8.23964357e-01,\n",
              "           5.97556114e-01,  4.08869423e-02,  2.40425259e-01,\n",
              "           9.56626952e-01, -1.55707061e+00],\n",
              "         [-4.93992537e-01,  1.82357430e-01, -4.36613470e-01,\n",
              "           1.64466357e+00, -4.72603738e-01, -9.21641350e-01,\n",
              "           4.00330961e-01, -1.35800493e+00,  2.09779334e+00,\n",
              "           1.43908286e+00,  2.70630383e+00, -1.31910312e+00,\n",
              "          -1.29603699e-01, -1.11663651e+00, -8.22747171e-01,\n",
              "          -5.10887951e-02,  1.31545281e+00, -6.53465867e-01,\n",
              "           1.52802706e+00, -9.68528166e-02],\n",
              "         [ 9.93865907e-01, -2.30402693e-01, -4.91379231e-01,\n",
              "           1.89913258e-01,  8.16238403e-01,  4.51349258e-01,\n",
              "           5.27909279e-01, -5.90950251e-01, -4.77422953e-01,\n",
              "          -3.97821456e-01,  1.93834871e-01,  1.87901258e-02,\n",
              "          -3.01275551e-01,  1.05931425e+00,  2.05370307e+00,\n",
              "           4.00006026e-01, -1.04866099e+00, -1.73748255e-01,\n",
              "          -6.95896864e-01,  1.70596766e+00],\n",
              "         [-1.86842012e+00, -2.32745576e+00,  1.35247874e+00,\n",
              "          -1.00959098e+00, -1.09719539e+00, -1.14926803e+00,\n",
              "          -2.96622276e-01,  2.56121993e+00, -6.62186205e-01,\n",
              "          -1.48819769e-02, -5.51319540e-01,  1.15021479e+00,\n",
              "           6.07784629e-01, -8.91419291e-01,  3.15890849e-01,\n",
              "          -5.23977280e-01,  4.46096182e-01, -1.58036506e+00,\n",
              "          -7.95784891e-01, -9.39033449e-01],\n",
              "         [ 1.25461984e+00,  1.47825396e+00, -1.71283996e+00,\n",
              "          -8.30417037e-01, -1.16730571e-01, -7.80955672e-01,\n",
              "           2.59080142e-01,  6.78179383e-01, -1.80661857e-01,\n",
              "          -5.65164804e-01, -1.70667067e-01, -5.40683329e-01,\n",
              "           5.53242147e-01, -1.03141809e+00, -1.59999228e+00,\n",
              "          -1.07176721e+00,  5.26862442e-01,  6.46828592e-01,\n",
              "           9.86023396e-02,  1.08674097e+00],\n",
              "         [-7.18366385e-01, -1.47612259e-01,  2.16564015e-01,\n",
              "           8.77869725e-01, -1.48606253e+00,  2.91525312e-02,\n",
              "           1.17690668e-01,  8.60688269e-01,  1.00254782e-01,\n",
              "          -3.70561302e-01, -7.94752300e-01, -1.74819994e+00,\n",
              "           2.47883034e+00,  1.33659557e-01, -1.51660904e-01,\n",
              "          -3.49288106e-01, -9.39566940e-02, -1.26882362e+00,\n",
              "          -1.83150560e-01, -1.12402856e+00],\n",
              "         [ 3.31478059e-01,  4.96003419e-01,  8.17523599e-01,\n",
              "          -9.35464978e-01, -1.84149671e+00, -7.75964737e-01,\n",
              "           2.15304375e+00,  2.42740721e-01, -1.88204384e+00,\n",
              "           2.42860746e+00, -3.93435568e-01,  9.32119489e-01,\n",
              "           3.47775042e-01,  1.56408799e+00, -1.22502124e+00,\n",
              "           6.79361820e-03,  1.87787771e+00, -3.99256080e-01,\n",
              "           1.84479356e+00, -4.20875758e-01],\n",
              "         [ 1.12325180e+00, -2.45023966e-01, -8.38943481e-01,\n",
              "          -8.47332776e-01,  2.57173717e-01,  2.59519362e+00,\n",
              "          -1.07362533e+00, -2.16789842e+00, -1.96513563e-01,\n",
              "          -5.85836411e-01,  1.14193356e+00, -1.88275740e-01,\n",
              "           4.00330305e-01, -1.05353451e+00, -1.30772531e+00,\n",
              "          -4.53345180e-01, -2.21894383e-01, -4.85756397e-01,\n",
              "          -5.55882394e-01, -6.79538965e-01],\n",
              "         [ 2.89113224e-01, -2.27797896e-01,  1.18708789e-01,\n",
              "           1.66864681e+00,  1.49213827e+00, -6.58805549e-01,\n",
              "           5.65372646e-01, -2.80871302e-01,  5.76786876e-01,\n",
              "           3.59946340e-01, -8.79787445e-01, -1.82094646e+00,\n",
              "          -5.52876331e-02, -6.72270417e-01, -1.44225031e-01,\n",
              "          -7.22845733e-01,  8.93356740e-01, -2.35166818e-01,\n",
              "          -1.70820534e+00, -7.65085667e-02],\n",
              "         [ 3.93497586e-01, -1.61641955e-01,  7.49352217e-01,\n",
              "           4.47113097e-01, -6.95273519e-01, -5.78210413e-01,\n",
              "           8.83040875e-02, -1.29942715e+00, -1.43245709e+00,\n",
              "          -8.20149422e-01,  1.27174163e+00,  1.04102516e+00,\n",
              "          -3.62402797e-01, -7.13521957e-01, -7.63009846e-01,\n",
              "           8.58015895e-01,  1.04742777e+00,  5.04161954e-01,\n",
              "          -2.39176854e-01,  6.43297434e-01],\n",
              "         [-4.25243117e-02,  2.49263644e-01, -5.63806951e-01,\n",
              "           3.23959112e-01,  2.64362335e-01,  1.14329314e+00,\n",
              "          -1.33962229e-01, -1.28758061e+00,  1.39510155e+00,\n",
              "          -1.69956779e+00, -1.54259816e-01,  1.66335642e+00,\n",
              "          -6.12063587e-01, -2.50959992e-01,  1.35919929e+00,\n",
              "           5.67695677e-01, -2.11762011e-01, -1.19132042e+00,\n",
              "          -1.22474909e+00,  9.76716459e-01],\n",
              "         [-1.75097668e+00,  3.33674490e-01,  2.02757478e+00,\n",
              "           3.04431289e-01, -1.77321211e-01, -1.12236810e+00,\n",
              "          -8.37781608e-01,  1.72911715e-02, -1.90612102e+00,\n",
              "           1.19487000e+00,  2.72102565e-01, -2.60059088e-01,\n",
              "           1.27753884e-01, -6.31153643e-01, -1.78582251e+00,\n",
              "           1.25090275e-02,  1.38485563e+00,  2.75370151e-01,\n",
              "          -1.06988519e-01, -2.48943639e+00],\n",
              "         [ 8.65473747e-01, -1.52353555e-01, -6.37278855e-01,\n",
              "           7.84304380e-01,  6.92662656e-01, -5.55301130e-01,\n",
              "          -1.36778510e+00,  1.01738088e-01, -1.18428075e+00,\n",
              "          -1.44611061e+00, -2.31749229e-02, -2.48840839e-01,\n",
              "          -2.33574837e-01,  1.03662443e+00,  1.24747849e+00,\n",
              "           1.02394164e+00,  2.68294597e+00,  1.45625889e+00,\n",
              "          -8.47157538e-01,  1.81656495e-01],\n",
              "         [ 2.90795475e-01, -9.45927650e-02,  5.47107399e-01,\n",
              "           8.61285269e-01,  8.43767405e-01, -1.38283446e-01,\n",
              "          -1.56013608e+00,  3.70940045e-02,  3.15761454e-02,\n",
              "          -4.54330117e-01,  1.45788801e+00,  1.16475672e-01,\n",
              "           2.71464199e-01,  8.46063495e-01,  9.58856344e-02,\n",
              "           3.85924309e-01,  1.06516814e+00, -4.65528399e-01,\n",
              "          -1.05144572e+00, -1.42043900e+00],\n",
              "         [-1.05593204e+00, -4.82146889e-01, -7.31523037e-01,\n",
              "           7.89528668e-01,  3.08249861e-01, -2.76022613e-01,\n",
              "           7.35947490e-01, -2.63011098e-01, -1.81115937e+00,\n",
              "          -3.64923388e-01,  7.02387094e-03,  1.08572245e+00,\n",
              "           1.13692856e+00,  2.03706527e+00,  8.00377071e-01,\n",
              "           5.00539184e-01, -2.57749170e-01, -1.29634142e+00,\n",
              "          -2.74153024e-01, -5.05485177e-01],\n",
              "         [ 6.04591250e-01, -2.50462508e+00, -2.13889360e+00,\n",
              "          -1.36269879e+00, -1.11357892e+00, -5.80672145e-01,\n",
              "          -8.46484721e-01,  1.54525816e+00, -1.17197824e+00,\n",
              "          -1.74749389e-01, -5.22397578e-01,  1.19811785e+00,\n",
              "           5.49842536e-01,  1.71501189e-01, -2.08615375e+00,\n",
              "           8.22104812e-01,  2.92679593e-02,  1.10476124e+00,\n",
              "           1.25861716e+00, -2.30579436e-01],\n",
              "         [ 6.91372573e-01,  6.83925748e-01, -4.85750765e-01,\n",
              "          -1.31127036e+00, -4.27536488e-01,  2.14977562e-02,\n",
              "           1.67077184e+00,  1.55882514e+00,  1.35288835e+00,\n",
              "           6.15298152e-01,  5.22583246e-01, -5.92750549e-01,\n",
              "           3.51385981e-01, -1.55230284e+00, -6.78755879e-01,\n",
              "          -1.34592438e+00, -5.56320548e-01,  9.07897115e-01,\n",
              "          -8.66218209e-01, -1.44707954e+00],\n",
              "         [ 8.44587505e-01,  8.86523128e-01,  1.50514162e+00,\n",
              "          -1.17053783e+00,  4.17910486e-01,  2.47173250e-01,\n",
              "           3.43281120e-01,  4.66698483e-02,  1.03260100e+00,\n",
              "           3.07631791e-01, -1.05069496e-01, -9.46066618e-01,\n",
              "          -1.03691816e+00,  7.45186746e-01,  9.56160009e-01,\n",
              "          -7.92223990e-01, -5.82328439e-01,  1.37368965e+00,\n",
              "          -5.28365135e-01, -4.17724311e-01],\n",
              "         [-5.17026544e-01, -1.16568446e+00,  1.20514786e+00,\n",
              "           2.78013855e-01, -4.15663928e-01, -1.40130424e+00,\n",
              "           1.73274681e-01, -2.25330308e-01, -8.96134302e-02,\n",
              "           1.74792802e+00,  9.91615295e-01,  5.40843964e-01,\n",
              "           2.84988374e-01,  1.15683985e+00, -1.22512615e+00,\n",
              "           7.58842409e-01,  1.49706256e+00, -5.30375898e-01,\n",
              "           6.55012071e-01,  1.21346518e-01],\n",
              "         [-1.68265271e+00, -2.90652454e-01, -3.20509106e-01,\n",
              "          -1.07209109e-01,  6.95343137e-01,  2.06103158e+00,\n",
              "           2.36535239e+00, -4.22057956e-01,  9.33273613e-01,\n",
              "          -1.18638650e-01, -1.89801440e-01,  1.80242002e-01,\n",
              "          -2.53925979e-01, -2.20907480e-01, -1.49942592e-01,\n",
              "          -6.60182357e-01,  8.02157819e-01,  2.33864260e+00,\n",
              "           4.32394087e-01, -2.67650783e-01],\n",
              "         [-1.76194918e+00,  7.62611508e-01, -1.11008620e+00,\n",
              "          -1.52463031e+00,  1.10831368e+00, -2.20937729e-01,\n",
              "           9.16426122e-01, -8.13083827e-01,  5.91864049e-01,\n",
              "          -3.24373722e-01, -2.41634846e+00,  1.18455541e+00,\n",
              "          -1.83804119e+00, -5.03498316e-02,  3.98675323e-01,\n",
              "           6.09664023e-01,  1.46361339e+00, -4.59203869e-02,\n",
              "          -9.76518467e-02, -7.70998180e-01],\n",
              "         [-5.92573024e-02, -1.83912635e+00,  4.93355125e-01,\n",
              "           4.38519865e-01,  1.23840201e+00,  2.98907250e-01,\n",
              "          -5.53207219e-01,  5.97368121e-01,  9.43482459e-01,\n",
              "          -1.40364122e+00,  1.92931712e-01, -4.08501446e-01,\n",
              "          -9.43099976e-01, -2.88777411e-01, -6.00523651e-01,\n",
              "          -1.45497754e-01,  1.39554739e-01,  4.32628721e-01,\n",
              "           1.47731215e-01, -2.03158990e-01],\n",
              "         [-3.27173054e-01, -8.86903763e-01, -3.79077673e-01,\n",
              "           3.04541993e+00, -8.48799109e-01, -1.42997539e+00,\n",
              "           1.73926556e+00, -1.56783724e+00, -7.52876580e-01,\n",
              "          -6.70021400e-02, -6.24047339e-01,  5.06079197e-03,\n",
              "           2.28640005e-01,  4.48770821e-02,  1.51483822e+00,\n",
              "           7.65269458e-01,  6.17022872e-01,  7.85997435e-02,\n",
              "          -2.29190856e-01, -1.16564381e+00]], dtype=float32),\n",
              "  Array([-0.07808083, -0.5434734 ,  0.1864669 , -0.4351923 , -0.9311617 ,\n",
              "         -2.3624163 ,  0.6919913 ,  1.1472366 , -0.8347446 , -0.7185031 ,\n",
              "          0.9649187 ,  0.8564879 ,  0.31299707,  0.5030153 ,  0.41880423,\n",
              "          1.0309787 , -1.227613  , -0.24287035,  1.2600062 , -0.6258144 ],      dtype=float32)),\n",
              " (Array([[-1.1681343 ],\n",
              "         [-0.07762551],\n",
              "         [-0.32302478],\n",
              "         [ 1.6599003 ],\n",
              "         [-1.0767838 ],\n",
              "         [-0.90982443],\n",
              "         [-1.5055461 ],\n",
              "         [-1.8900256 ],\n",
              "         [-0.21302283],\n",
              "         [ 0.7831503 ],\n",
              "         [-0.9186752 ],\n",
              "         [ 1.8954856 ],\n",
              "         [-0.2440727 ],\n",
              "         [-0.27888966],\n",
              "         [ 1.249331  ],\n",
              "         [ 1.2124523 ],\n",
              "         [ 0.8801019 ],\n",
              "         [-1.7996776 ],\n",
              "         [ 0.16556635],\n",
              "         [-1.4156775 ]], dtype=float32),\n",
              "  Array([0.3402088], dtype=float32))]"
            ]
          },
          "metadata": {},
          "execution_count": 40
        }
      ]
    },
    {
      "cell_type": "markdown",
      "source": [
        "## Train and plot"
      ],
      "metadata": {
        "id": "aIDDV6Go4U4z"
      }
    },
    {
      "cell_type": "code",
      "source": [
        "import matplotlib.pyplot as plt"
      ],
      "metadata": {
        "id": "LvNifuvg4Xvx"
      },
      "execution_count": null,
      "outputs": []
    },
    {
      "cell_type": "code",
      "source": [
        "def train_model(params, x, y, lr):\n",
        "  loss_history = []\n",
        "\n",
        "  for i in range(3000):\n",
        "    # compute loss value for plotting and debug purposes only\n",
        "    loss_val = loss(params, x, y)\n",
        "    loss_history.append(loss_val)\n",
        "    if (i%300) == 0:\n",
        "      print(f\"Loss at step {i}: {loss_val}\")\n",
        "\n",
        "    # perform the training update\n",
        "    params = jax.jit(update)(params, x, y, lr)\n",
        "\n",
        "  plt.plot(loss_history)\n",
        "  return params"
      ],
      "metadata": {
        "id": "8VqwA5zP4YnU"
      },
      "execution_count": null,
      "outputs": []
    },
    {
      "cell_type": "code",
      "source": [
        "# inputs and targets are the X and y that we are trying to train\n",
        "inputs = np.random.normal(size = (256,1))\n",
        "\n",
        "# y = 3x^3 + 5x^2 + 9x + 2 + some noise\n",
        "x = inputs\n",
        "targets = 3*x*x*x + 5*x*x + 9*x + 2 + np.random.normal(size=(256,1), scale = 1.5)\n",
        "\n",
        "plt.scatter(inputs, targets)"
      ],
      "metadata": {
        "colab": {
          "base_uri": "https://localhost:8080/",
          "height": 447
        },
        "id": "M9DnBb5c68cA",
        "outputId": "18fbbdd4-9497-491b-d772-7e9393548cad"
      },
      "execution_count": null,
      "outputs": [
        {
          "output_type": "execute_result",
          "data": {
            "text/plain": [
              "<matplotlib.collections.PathCollection at 0x794ac472fe90>"
            ]
          },
          "metadata": {},
          "execution_count": 43
        },
        {
          "output_type": "display_data",
          "data": {
            "text/plain": [
              "<Figure size 640x480 with 1 Axes>"
            ],
            "image/png": "[encoded data removed]"
          },
          "metadata": {}
        }
      ]
    },
    {
      "cell_type": "code",
      "source": [
        "params = create_layers(key, layer_sizes) # reset the model params, copied from above\n",
        "params = train_model(params, inputs, targets, 0.0001)"
      ],
      "metadata": {
        "colab": {
          "base_uri": "https://localhost:8080/"
        },
        "id": "lrPUOysT45hv",
        "outputId": "81f47269-dc5d-45c9-cdaf-65959e54d9ad"
      },
      "execution_count": null,
      "outputs": [
        {
          "output_type": "stream",
          "name": "stdout",
          "text": [
            "Loss at step 0: 600.421875\n",
            "Loss at step 300: 40.11406326293945\n",
            "Loss at step 600: 22.633411407470703\n",
            "Loss at step 900: 16.82077407836914\n",
            "Loss at step 1200: 13.520671844482422\n",
            "Loss at step 1500: 11.741966247558594\n",
            "Loss at step 1800: 10.331432342529297\n",
            "Loss at step 2100: 9.15040111541748\n",
            "Loss at step 2400: 8.106636047363281\n",
            "Loss at step 2700: 7.249202251434326\n"
          ]
        },
        {
          "output_type": "display_data",
          "data": {
            "text/plain": [
              "<Figure size 640x480 with 1 Axes>"
            ],
            "image/png": "[encoded data removed]"
          },
          "metadata": {}
        }
      ]
    },
    {
      "cell_type": "code",
      "source": [
        "plt.scatter(inputs,targets)\n",
        "plt.scatter(inputs, predict(params, inputs), label='prediction')\n",
        "plt.legend()"
      ],
      "metadata": {
        "colab": {
          "base_uri": "https://localhost:8080/"
        },
        "id": "pWMyTEc646-7",
        "outputId": "c1f7066f-6054-4bab-920c-1d648de42aed"
      },
      "execution_count": null,
      "outputs": [
        {
          "output_type": "execute_result",
          "data": {
            "text/plain": [
              "<matplotlib.legend.Legend at 0x794ad50bcf50>"
            ]
          },
          "metadata": {},
          "execution_count": 45
        },
        {
          "output_type": "display_data",
          "data": {
            "text/plain": [
              "<Figure size 640x480 with 1 Axes>"
            ],
            "image/png": "[encoded data removed]"
          },
          "metadata": {}
        }
      ]
    },
    {
      "cell_type": "markdown",
      "source": [
        "# NNX"
      ],
      "metadata": {
        "id": "Y61Vc4hPjyMh"
      }
    },
    {
      "cell_type": "markdown",
      "source": [
        "https://colab.research.google.com/github/jax-ml/jax-ai-stack/blob/main/docs/source/getting_started_with_jax_for_AI.ipynb"
      ],
      "metadata": {
        "id": "2qYzSUl_eDap"
      }
    }
  ]
}